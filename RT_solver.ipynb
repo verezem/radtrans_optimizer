{
 "cells": [
  {
   "cell_type": "markdown",
   "id": "ad5ba40f",
   "metadata": {},
   "source": [
    "# This script is an alternative-optimizable RADTRANS twin solved and optimized by PyTorch and https://anaconda.org/conda-forge/torchdiffeq"
   ]
  },
  {
   "cell_type": "markdown",
   "id": "3bec818c",
   "metadata": {},
   "source": [
    "## First we download needed libraries"
   ]
  },
  {
   "cell_type": "code",
   "execution_count": 1,
   "id": "809f724b",
   "metadata": {},
   "outputs": [],
   "source": [
    "import xarray as xr\n",
    "import numpy as np\n",
    "import pandas as pd\n",
    "import torch \n",
    "import torch.nn as nn\n",
    "from torchdiffeq import odeint_adjoint as odeint\n",
    "from pylab import *\n",
    "from datetime import datetime"
   ]
  },
  {
   "cell_type": "markdown",
   "id": "e2ac3ce1",
   "metadata": {},
   "source": [
    "## Here we define our functions to be integrated. In this case it's Dutkewicz et al. 2015 three-stream ocean optics model (https://bg.copernicus.org/articles/12/4447/2015/) as implemented in Loïc's Macé version of NEMO+BAMBHI+RT ensemble model. "
   ]
  },
  {
   "cell_type": "markdown",
   "id": "d2c98add",
   "metadata": {},
   "source": [
    "## Following parameters are computed/set:\n",
    "### Ed - direct sun irradiance,\n",
    "### Es - scattered irradiance,\n",
    "### Eu - backscattered irradiance.\n",
    "### v_d, v_s, v_u - mean cosines of (1) sun height, scattering and backscattering angles\n",
    "### a - absorption coefficient, b - scattering coefficient, b_b - backscattering coefficient\n",
    "### a = a_w + a_phy + a_det +a_cdom\n",
    "### b = b_w + b_phy + b_det\n",
    "### b_b = bb_w + bb_phy + bb_det\n",
    "### for more information see Dutkewicz et al. 2015"
   ]
  },
  {
   "cell_type": "markdown",
   "id": "933122cf",
   "metadata": {},
   "source": [
    "# Read (vertical) grid"
   ]
  },
  {
   "cell_type": "code",
   "execution_count": 2,
   "id": "92dbc14d",
   "metadata": {},
   "outputs": [],
   "source": [
    "gridfile = '../current_day/domain_cfg.nc'\n",
    "griddat = xr.open_dataset(gridfile)\n",
    "modlev = griddat.e3t_1d.values[0,:]\n",
    "zlev = np.zeros_like(modlev)\n",
    "for i in range(len(zlev)):\n",
    "    zlev[i] = modlev[i]+zlev[i-1]\n",
    "z_lev = torch.tensor(zlev, dtype=torch.float32) # z-levels red from domain_cfg.nc file"
   ]
  },
  {
   "cell_type": "markdown",
   "id": "a3fc1d45",
   "metadata": {},
   "source": [
    "# Read Spectral Irradiances"
   ]
  },
  {
   "cell_type": "code",
   "execution_count": 3,
   "id": "d6dd0570",
   "metadata": {},
   "outputs": [],
   "source": [
    "radfile = '../state_vars/SW_spectral_12h.g10_y2017m08.nc'\n",
    "dr = xr.open_dataset(radfile)"
   ]
  },
  {
   "cell_type": "code",
   "execution_count": 4,
   "id": "9d1325cc",
   "metadata": {},
   "outputs": [],
   "source": [
    "direct = dr.PSW_SPECTRAL_DIR.values[2,:,60,45]\n",
    "direct.shape\n",
    "net = dr.PSW_SPECTRAL.values[2,:,60,45]\n",
    "diffuse = net - direct\n",
    "upb = dr.UP_BOUNDS.values[:]\n",
    "lob = dr.LOW_BOUNDS.values[:]\n",
    "bds = (upb + lob)/2"
   ]
  },
  {
   "cell_type": "markdown",
   "id": "b07fa6c1",
   "metadata": {},
   "source": [
    "## Get spectral bounds"
   ]
  },
  {
   "cell_type": "code",
   "execution_count": 5,
   "id": "80145729",
   "metadata": {},
   "outputs": [
    {
     "name": "stdout",
     "output_type": "stream",
     "text": [
      "[250, 325, 350, 375, 400, 425, 450, 475, 500, 525, 550, 575, 600, 625, 650, 675, 700, 731, 775, 850, 950, 1050, 1150, 1250, 1350, 1450, 1550, 1650, 1750, 1900, 2200, 2900, 3700]\n"
     ]
    }
   ],
   "source": [
    "bounds = []\n",
    "for ii in range(len(bds)):\n",
    "    bounds.append(round(bds[ii]*1E9))\n",
    "print(bounds)"
   ]
  },
  {
   "cell_type": "code",
   "execution_count": 6,
   "id": "ca332977",
   "metadata": {},
   "outputs": [
    {
     "name": "stderr",
     "output_type": "stream",
     "text": [
      "/tmp/ipykernel_2621619/2376817562.py:7: UserWarning: Creating a tensor from a list of numpy.ndarrays is extremely slow. Please consider converting the list to a single numpy.ndarray with numpy.array() before converting to a tensor. (Triggered internally at /opt/conda/conda-bld/pytorch_1711403238793/work/torch/csrc/utils/tensor_new.cpp:275.)\n",
      "  E_init = torch.tensor(initial_values, dtype=torch.float32)\n"
     ]
    },
    {
     "name": "stdout",
     "output_type": "stream",
     "text": [
      "tensor([[24.7850,  0.0000,  0.0000,  0.0000,  0.0000,  0.0000,  0.0000,  0.0000,\n",
      "          0.0000,  0.0000,  0.0000,  0.0000,  0.0000,  0.0000,  0.0000,  0.0000,\n",
      "          0.0000,  0.0000,  0.0000,  0.0000,  0.0000,  0.0000,  0.0000,  0.0000,\n",
      "          0.0000,  0.0000,  0.0000,  0.0000,  0.0000,  0.0000,  0.0000,  0.0000,\n",
      "          0.0000,  0.0000,  0.0000,  0.0000,  0.0000,  0.0000,  0.0000,  0.0000,\n",
      "          0.0000,  0.0000,  0.0000,  0.0000,  0.0000,  0.0000,  0.0000,  0.0000,\n",
      "          0.0000,  0.0000,  0.0000,  0.0000,  0.0000,  0.0000,  0.0000,  0.0000,\n",
      "          0.0000,  0.0000,  0.0000],\n",
      "        [ 6.7607,  0.0000,  0.0000,  0.0000,  0.0000,  0.0000,  0.0000,  0.0000,\n",
      "          0.0000,  0.0000,  0.0000,  0.0000,  0.0000,  0.0000,  0.0000,  0.0000,\n",
      "          0.0000,  0.0000,  0.0000,  0.0000,  0.0000,  0.0000,  0.0000,  0.0000,\n",
      "          0.0000,  0.0000,  0.0000,  0.0000,  0.0000,  0.0000,  0.0000,  0.0000,\n",
      "          0.0000,  0.0000,  0.0000,  0.0000,  0.0000,  0.0000,  0.0000,  0.0000,\n",
      "          0.0000,  0.0000,  0.0000,  0.0000,  0.0000,  0.0000,  0.0000,  0.0000,\n",
      "          0.0000,  0.0000,  0.0000,  0.0000,  0.0000,  0.0000,  0.0000,  0.0000,\n",
      "          0.0000,  0.0000,  0.0000],\n",
      "        [ 0.0000,  0.0000,  0.0000,  0.0000,  0.0000,  0.0000,  0.0000,  0.0000,\n",
      "          0.0000,  0.0000,  0.0000,  0.0000,  0.0000,  0.0000,  0.0000,  0.0000,\n",
      "          0.0000,  0.0000,  0.0000,  0.0000,  0.0000,  0.0000,  0.0000,  0.0000,\n",
      "          0.0000,  0.0000,  0.0000,  0.0000,  0.0000,  0.0000,  0.0000,  0.0000,\n",
      "          0.0000,  0.0000,  0.0000,  0.0000,  0.0000,  0.0000,  0.0000,  0.0000,\n",
      "          0.0000,  0.0000,  0.0000,  0.0000,  0.0000,  0.0000,  0.0000,  0.0000,\n",
      "          0.0000,  0.0000,  0.0000,  0.0000,  0.0000,  0.0000,  0.0000,  0.0000,\n",
      "          0.0000,  0.0000,  0.0000]])\n"
     ]
    }
   ],
   "source": [
    "init_direct = np.zeros(len(modlev))\n",
    "init_diffuse = np.zeros(len(modlev))\n",
    "init_back = np.zeros(len(modlev))\n",
    "init_direct[0] = direct[8]\n",
    "init_diffuse[0] = diffuse[8]\n",
    "initial_values = [init_direct, init_diffuse, init_back]\n",
    "E_init = torch.tensor(initial_values, dtype=torch.float32)\n",
    "print(E_init)"
   ]
  },
  {
   "cell_type": "markdown",
   "id": "b6ac9e4e",
   "metadata": {},
   "source": [
    "# Here comes the sun (c) Beatles"
   ]
  },
  {
   "cell_type": "code",
   "execution_count": 7,
   "id": "27dc79f3",
   "metadata": {},
   "outputs": [],
   "source": [
    "class ODESystem(nn.Module):\n",
    "    def __init__(self, filename):\n",
    "        super(ODESystem, self).__init__()\n",
    "        self.read_spectral_data()\n",
    "        # Read absorbance coefficients from files: 3 PHY, 1 WATER, 1 DETR, 1 CDOM\n",
    "        self.water_abs = torch.tensor(self.water_coef['abs'][8])\n",
    "        self.water_sct = torch.tensor(self.water_coef['scat'][8])\n",
    "        self.water_bsct = torch.tensor(self.water_coef['bscat'][8])\n",
    "        # abs phyto - each contains 6 wavelens\n",
    "        self.dia_abs = torch.tensor(self.diatom_coef['abs'][8])\n",
    "        self.coc_abs = torch.tensor(self.cocco_coef['abs'][8])\n",
    "        self.bac_abs = torch.tensor(self.lgeuk_coef['abs'][8])\n",
    "        # scattering by PHY\n",
    "        self.dia_sct = torch.tensor(self.diatom_coef['scat'][8])\n",
    "        self.coc_sct = torch.tensor(self.cocco_coef['scat'][8])\n",
    "        self.bac_sct = torch.tensor(self.lgeuk_coef['scat'][8])\n",
    "        # & backscattering by PHY\n",
    "        self.dia_bsct = torch.tensor(self.diatom_coef['bscat'][8])\n",
    "        self.coc_bsct = torch.tensor(self.cocco_coef['bscat'][8])\n",
    "        self.bac_bsct = torch.tensor(self.lgeuk_coef['bscat'][8])\n",
    "        # detrital all\n",
    "        self.a_det_part = torch.tensor(self.parts_coef['abs'][8])\n",
    "        self.b_det_part = torch.tensor(self.parts_coef['scat'][8])\n",
    "        self.bb_det_part = torch.tensor(self.parts_coef['bscat'][8])\n",
    "        # Define water refraction coefficient before sun_param invocation\n",
    "        self.refract_water = 1.341\n",
    "        self.v_d_max = 1.5\n",
    "        # Read the data\n",
    "        self.read_bgc_data(filename)\n",
    "        # Solar zenith abgle \n",
    "        self.v_d = self.sun_param()\n",
    "        # That parameters which are constants as they are in Dutkewicz and Alvarez\n",
    "        self.v_s = 0.83\n",
    "        self.v_u = 0.4\n",
    "        self.r_d = 1.0\n",
    "        self.r_s = 1.5\n",
    "        self.r_u = 3.0\n",
    "        \n",
    "    def check_leap(self):    # if year is leap = nlen = 366, if not = 365\n",
    "        leapness = self.year % 4 == 0 and (self.year % 100 != 0 or self.year % 400 == 0)\n",
    "        if leapness:\n",
    "            nyear_len = 366\n",
    "        else:\n",
    "            nyear_len = 365\n",
    "        return nyear_len\n",
    "    \n",
    "    def get_nsecyear(self):\n",
    "        tt = pd.to_datetime(self.BAMtim)\n",
    "        self.year = tt.year\n",
    "        tt20170101 = pd.to_datetime('20170101T00:00:00')\n",
    "        tdelta = tt - tt20170101\n",
    "        self.nsecyear = tdelta.total_seconds().values\n",
    "    \n",
    "    def sun_param(self):\n",
    "        self.get_nsecyear()\n",
    "        print(self.nsecyear)\n",
    "        nyear_len = self.check_leap()\n",
    "        secondsinyear = nyear_len*86400.0\n",
    "        # nsecyear - number of second between 00h 1 Jan of this year and half of current timestep\n",
    "        yearangle = 2.0*np.pi*self.nsecyear/secondsinyear\n",
    "        # delta - declination for current date using Spencers's Fourrier series\n",
    "        delta = 0.006918 - 0.399912*np.cos(yearangle) + 0.070257*np.sin(yearangle) - 0.006758*cos(2.0*yearangle) + \\\n",
    "                0.000907*np.sin(2.0*yearangle) - 0.002697*np.cos(3.0*yearangle) + 0.001480*np.sin(3.0*yearangle)\n",
    "        # compute solar zenith angle from declination - cosine of zenith angle is averaged over day-time period\n",
    "        # this is done for each grid point\n",
    "        self.read_grid()\n",
    "        latrad = np.deg2rad(self.lat)\n",
    "        sun1 = -np.sin(delta)/np.cos(delta) * np.sin(latrad)/np.cos(latrad)\n",
    "        if sun1 <= -0.999: # what the fuck is this?\n",
    "            sun1 = -0.999\n",
    "        elif sun1 >= 0.999:\n",
    "            sun1 = 0.999\n",
    "        dayhrs = np.abs(np.arccos(sun1))\n",
    "        cosz = np.sin(delta)*np.sin(latrad)+(np.cos(delta)*np.cos(latrad)*np.sin(dayhrs)/dayhrs)\n",
    "        if cosz <= 0.005: # and this?\n",
    "            cosz = 0.005\n",
    "        elif cosz >= 0.999:\n",
    "            cosz = 0.999\n",
    "        solz = np.rad2deg(np.arccos(cosz)) # this is solar zenith angle\n",
    "        # Now we compute that v_d angle finally\n",
    "        sinebelow = np.sin(np.deg2rad(solz))/self.refract_water # refract comes from namelist\n",
    "        solzbelow = np.arcsin(sinebelow)\n",
    "        v_d = v_d = np.maximum(0.0, np.minimum(self.v_d_max, 1./np.cos(solzbelow))) # v_d_max comes from namelist\n",
    "        return torch.tensor(v_d)\n",
    "    \n",
    "    def get_wavelen(var, varwav):\n",
    "        for ii, wav in enumerate(varwav):\n",
    "            if wav == 400:\n",
    "                var412 = var[ii] + ((var[ii+1] - var[ii])/25)*12\n",
    "            if wav == 425:\n",
    "                var443 = var[ii] + ((var[ii+1] - var[ii])/25)*18\n",
    "            if wav == 475:\n",
    "                var490 = var[ii] + ((var[ii+1] - var[ii])/25)*15\n",
    "            if wav == 500:\n",
    "                var510 = var[ii] + ((var[ii+1] - var[ii])/25)*10\n",
    "            if wav == 550:\n",
    "                var555 = var[ii] + ((var[ii+1] - var[ii])/25)*5\n",
    "            if wav == 675:\n",
    "                var670 = var[ii] - ((var[ii+1] - var[ii])/25)*5\n",
    "        return var412,var443,var490,var510,var555,var670\n",
    "    \n",
    "    def read_spectral_data(self):\n",
    "        waterAbsorbFile     = './spectra_water.dat'\n",
    "        bactrAbsorbFile     = './spectra_LgEuk.dat'\n",
    "        diatmAbsorbFile     = './spectra_diatom.dat'\n",
    "        coccoAbsorbFile     = './spectra_coccolito.dat'\n",
    "        particleAbsorbFile  = './spectra_particles.dat'\n",
    "        # pure water coefficients\n",
    "        self.water_coef = pd.read_csv(waterAbsorbFile, header=6, sep='\\s+', \\\n",
    "                         names=['wavelen','abs','scat'])\n",
    "        water_bscat = self.water_coef['scat']*0.5\n",
    "        self.water_coef['bscat'] = water_bscat.tolist()\n",
    "        # Eukariotes which are in our case small flagellates\n",
    "        self.lgeuk_coef = pd.read_csv(bactrAbsorbFile, header=7, sep='\\s+',\\\n",
    "                         names=['wavelen','abs','abs_photo','scat','bscat_coef'])\n",
    "        lgeuk_bscat = self.lgeuk_coef['scat'] * self.lgeuk_coef['bscat_coef']\n",
    "        self.lgeuk_coef['bscat'] = lgeuk_bscat.tolist()\n",
    "        # diatoms are diatoms\n",
    "        self.diatom_coef = pd.read_csv(diatmAbsorbFile, header=1, sep='\\s+',\\\n",
    "                         names=['wavelen','abs','abs_photo','scat','bscat_coef'])\n",
    "        diatom_bscat = self.diatom_coef['scat'] * self.diatom_coef['bscat_coef']\n",
    "        self.diatom_coef['bscat'] = diatom_bscat.tolist()\n",
    "        # Coccolitofores are CEM - pico and nano-flagellates\n",
    "        self.cocco_coef = pd.read_csv(coccoAbsorbFile, header=1, sep='\\s+',\\\n",
    "                         names=['wavelen','abs','abs_photo','scat','bscat_coef'])\n",
    "        cocco_bscat = self.cocco_coef['scat'] * self.cocco_coef['bscat_coef']\n",
    "        self.cocco_coef['bscat'] = cocco_bscat.tolist()\n",
    "        # Detrital matter\n",
    "        self.parts_coef = pd.read_csv(particleAbsorbFile, header=5, sep='\\s+', \\\n",
    "                         names=['wavelen','abs','scat','bscat'])\n",
    "        \n",
    "        \n",
    "    def read_bgc_data(self, filename):\n",
    "        ds = xr.open_dataset(filename, engine='netcdf4')\n",
    "        # Particulate organic carbon\n",
    "        self.POC = torch.tensor(np.nan_to_num(ds.POC.values[0,:,25,25], nan=0))\n",
    "        # Carbon in phytoplankton\n",
    "        self.CEM = torch.tensor(np.nan_to_num(ds.CEM.values[0,:,25,25], nan=0)) # pico and nano flagellates\n",
    "        self.CFL = torch.tensor(np.nan_to_num(ds.CFL.values[0,:,25,25], nan=0)) # small flagellates\n",
    "        self.CDI = torch.tensor(np.nan_to_num(ds.CDI.values[0,:,25,25], nan=0)) # diatoms\n",
    "        # Chl-a in phytoplankton\n",
    "        self.CHE = torch.tensor(np.nan_to_num(ds.CHE.values[0,:,25,25], nan=0)) # pico and nano flagellates\n",
    "        self.CHF = torch.tensor(np.nan_to_num(ds.CHF.values[0,:,25,25], nan=0)) # small flagellates\n",
    "        self.CHD = torch.tensor(np.nan_to_num(ds.CHD.values[0,:,25,25], nan=0)) # diatoms\n",
    "        print(self.CHD)\n",
    "        # read date and time of the data\n",
    "        self.BAMtim = ds.time_counter.values[:]\n",
    "        \n",
    "    def read_grid(self):\n",
    "        gridfile = '../current_day/domain_cfg.nc'\n",
    "        griddat = xr.open_dataset(gridfile)\n",
    "        self.lat = griddat.nav_lat.values[25,25]\n",
    "        self.lon = griddat.nav_lon.values[25,25]\n",
    "            \n",
    "    def aphy(self):\n",
    "        # phyto_abs имеет размерность 6 (по кол-ву длин волн)\n",
    "        a_phy_dia = self.dia_abs*self.CHD # where Chl is chl-a in each phytopl group тоже 6\n",
    "        a_phy_coc = self.coc_abs*self.CHE\n",
    "        a_phy_bac = self.bac_abs*self.CHF\n",
    "        a_phy = a_phy_dia + a_phy_coc + a_phy_bac\n",
    "        return a_phy  \n",
    "    \n",
    "    def bphy(self):\n",
    "        b_phy_dia = self.dia_sct*self.CDI # wh\n",
    "        b_phy_coc = self.coc_sct*self.CEM\n",
    "        b_phy_bac = self.bac_sct*self.CFL\n",
    "        b_phy = b_phy_dia + b_phy_coc + b_phy_bac\n",
    "        return b_phy\n",
    "    \n",
    "    def bbphy(self):\n",
    "        bb_phy_dia = self.dia_bsct*self.CDI # wh\n",
    "        bb_phy_coc = self.coc_bsct*self.CEM\n",
    "        bb_phy_bac = self.bac_bsct*self.CFL\n",
    "        bb_phy = bb_phy_dia + bb_phy_coc + bb_phy_bac\n",
    "        return bb_phy\n",
    "    \n",
    "    def detrital(self, det_coef):\n",
    "        # is not dependent on which coefficient we compute\n",
    "        p_part = 10e-15 # mmolC/part from Dutkewicz et al. 2015\n",
    "        c_det = det_coef*(self.POC/p_part) # where POC is POC concentration \n",
    "        return c_det\n",
    "    \n",
    "    def forward(self, t, y):\n",
    "        flux1 = y[0][0]\n",
    "        flux2 = y[1][0]\n",
    "        # Compute coefficients from constants and params\n",
    "        a_phy = self.aphy()  # Shape: (59, other_dimensions)\n",
    "        b_phy = self.bphy()\n",
    "        bb_phy = self.bbphy()\n",
    "        a_det = self.detrital(self.a_det_part)\n",
    "        b_det = self.detrital(self.b_det_part)\n",
    "        bb_det = self.detrital(self.bb_det_part)\n",
    "        \n",
    "        # Compute coefficients at each level\n",
    "        a = a_phy + a_det + self.water_abs  # Shape: (59, other_dimensions, 1)\n",
    "        b = b_phy + b_det + self.water_sct  # Shape: (other_dimensions,)\n",
    "        bb = bb_phy + bb_det + self.water_bsct  # Shape: (59, other_dimensions, 1)\n",
    "        \n",
    "        # Compute flux3 based on flux2 and flux1 using coefficients from the correct level\n",
    "        flux3 = (a + self.r_u * bb) / self.v_u - (self.r_s * bb) / self.v_s - (flux1 * \\\n",
    "                    (self.r_d * bb) + flux2 * (a + self.r_s * bb)) / (flux1 * self.v_d)\n",
    "        # Integrate the scheme\n",
    "        dEd_dz = -flux1 * (a + b) / self.v_d\n",
    "        dEs_dz = -flux2 * (a + self.r_s * bb) / self.v_s + flux3 * (self.r_u * bb) / self.v_u + flux1 * (b - self.r_d * bb) / self.v_d\n",
    "        dEu_dz = flux3 * (a + self.r_u * bb) / self.v_u - flux2 * (self.r_s * bb) / self.v_s - flux1 * (self.r_d * bb) / self.v_d\n",
    "        \n",
    "        return torch.stack([dEd_dz.squeeze(-1), dEs_dz.squeeze(-1), dEu_dz.squeeze(-1)])"
   ]
  },
  {
   "cell_type": "code",
   "execution_count": 8,
   "id": "c83a478a",
   "metadata": {},
   "outputs": [
    {
     "name": "stdout",
     "output_type": "stream",
     "text": [
      "tensor([1.0643e-01, 1.0644e-01, 1.0646e-01, 1.0648e-01, 1.0650e-01, 1.0653e-01,\n",
      "        1.0656e-01, 1.0659e-01, 1.0661e-01, 1.0655e-01, 1.0630e-01, 1.0619e-01,\n",
      "        1.0721e-01, 1.1036e-01, 1.1107e-01, 1.0482e-01, 9.3985e-02, 8.7539e-02,\n",
      "        4.8194e-02, 1.6817e-02, 1.1777e-02, 8.5104e-03, 4.2517e-03, 3.1032e-03,\n",
      "        1.7765e-02, 4.8489e-01, 6.4279e-01, 4.1692e-01, 1.2853e-01, 3.6815e-02,\n",
      "        9.5407e-03, 9.6251e-04, 4.0000e-13, 4.0000e-13, 4.0000e-13, 4.0000e-13,\n",
      "        1.1061e-07, 3.2246e-07, 1.4445e-07, 2.9986e-08, 1.2459e-08, 5.2226e-09,\n",
      "        4.0000e-13, 4.0000e-13, 4.0000e-13, 4.0000e-13, 4.0000e-13, 4.0000e-13,\n",
      "        4.0000e-13, 4.0000e-13, 4.0000e-13, 0.0000e+00, 0.0000e+00, 0.0000e+00,\n",
      "        0.0000e+00, 0.0000e+00, 0.0000e+00, 0.0000e+00, 0.0000e+00])\n",
      "[18360000.]\n"
     ]
    }
   ],
   "source": [
    "ode_system = ODESystem('/scratch/ulg/mast/pverezem/DA_ENS/state_vars/ENS01_BS_ptrc_C001_y2017m08d01.nc')"
   ]
  },
  {
   "cell_type": "code",
   "execution_count": 118,
   "id": "6736a580",
   "metadata": {},
   "outputs": [],
   "source": [
    "# Here I can create optimizer and tell it which params I use to optimize"
   ]
  },
  {
   "cell_type": "code",
   "execution_count": null,
   "id": "b1771335",
   "metadata": {
    "scrolled": true
   },
   "outputs": [
    {
     "name": "stdout",
     "output_type": "stream",
     "text": [
      "18:54:49\n"
     ]
    }
   ],
   "source": [
    "print(datetime.now().strftime(\"%H:%M:%S\"))\n",
    "solution = odeint(ode_system, E_init, z_lev)\n",
    "print(datetime.now().strftime(\"%H:%M:%S\"))\n",
    "# RRS_below = \n",
    "# RRS_model = \n",
    "# Вот тут я могу посчитать RRS"
   ]
  },
  {
   "cell_type": "code",
   "execution_count": 3,
   "id": "e0959449",
   "metadata": {},
   "outputs": [],
   "source": [
    "# Compute RRS \n",
    "# Compare to RRS' -> MSE\n",
    "# где- то здесь должен быть написан оптимайзер |\n",
    "# diff back over new parameters\n",
    "# Optimize MSE"
   ]
  },
  {
   "cell_type": "code",
   "execution_count": null,
   "id": "38066e7f",
   "metadata": {},
   "outputs": [],
   "source": []
  },
  {
   "cell_type": "code",
   "execution_count": 15,
   "id": "eaafd9a2",
   "metadata": {},
   "outputs": [
    {
     "data": {
      "text/plain": [
       "[<matplotlib.lines.Line2D at 0x14e0eec7ae10>,\n",
       " <matplotlib.lines.Line2D at 0x14e0eeccb050>,\n",
       " <matplotlib.lines.Line2D at 0x14e0eeccb2d0>]"
      ]
     },
     "execution_count": 15,
     "metadata": {},
     "output_type": "execute_result"
    },
    {
     "data": {
      "image/png": "[encoded data removed]",
      "text/plain": [
       "<Figure size 640x480 with 1 Axes>"
      ]
     },
     "metadata": {},
     "output_type": "display_data"
    }
   ],
   "source": [
    "plt.plot(solut)"
   ]
  },
  {
   "cell_type": "code",
   "execution_count": 102,
   "id": "868dda23",
   "metadata": {},
   "outputs": [],
   "source": [
    "def check_leap(year):    # if year is leap = nlen = 366, if not = 365\n",
    "    leapness = year % 4 == 0 and (year % 100 != 0 or year % 400 == 0)\n",
    "    if leapness:\n",
    "        nyear_len = 366\n",
    "    else:\n",
    "        nyear_len = 365\n",
    "    return nyear_len"
   ]
  },
  {
   "cell_type": "code",
   "execution_count": 52,
   "id": "f4c57a4b",
   "metadata": {},
   "outputs": [],
   "source": [
    "def sun_param(lat, lon, time, date):\n",
    "    ckeck_leap(date)\n",
    "    secondsinyear = nyear_len*86400.0\n",
    "    yearangle = 2.0*np.pi()*nsecyear/secondsinyear\n",
    "    # delta - declination for current date using Spencers's Fourrier series\n",
    "    delta = 0.006918 - 0.399912*np.cos(yearangle) + 0.070257*np.sin(yearangle) - 0.006758*cos(2.0*yearangle) + \\\n",
    "            0.000907*np.sin(2.0*yearangle) - 0.002697*np.cos(3.0*yearangle) + 0.001480*np.sin(3.0*yearangle)\n",
    "    # compute solar zenith angle from declination - cosine of zenith angle is averaged over day-time period\n",
    "    # this is done for each grid point\n",
    "    latrad = np.deg2rad(self.lat)\n",
    "    sun1 = -np.sin(delta)/np.cos(delta) * np.sin(latrad)/np.cos(latrad)\n",
    "    if sun1 <= -0.999: # what the fuck is this?\n",
    "        sun1 = -0.999\n",
    "    elif sun1 >= 0.999:\n",
    "        sun1 = 0.999\n",
    "    dayhrs = np.abs(np.arccos(sun1))\n",
    "    cosz = np.sin(delta)*np.sin(latrad)+(np.cos(delta)*np.cos(latrad)*np.sin(dayhrs)/dayhrs)\n",
    "    if cosz <= 0.005: # and this?\n",
    "        cosz = 0.005\n",
    "    elif cosz >= 0.999:\n",
    "        cosz = 0.999\n",
    "    solz = np.rad2deg(np.arccos(cosz)) # this is solar zenith angle\n",
    "    # Now we compute that v_d angle finally\n",
    "    sinbelow = np.sin(np.deg2rad(solz))/refract_water # refract comes from namelist\n",
    "    solzbelow = np.arcsin(sinebelow)\n",
    "    v_d = np.max(0.0, np.min(v_d_max, 1./np.cos(solzbelow))) # v_d_max comes from namelist\n",
    "    return v_d"
   ]
  },
  {
   "cell_type": "markdown",
   "id": "0b104c69",
   "metadata": {},
   "source": [
    "## Let's create functions for a and b computation"
   ]
  },
  {
   "cell_type": "code",
   "execution_count": 185,
   "id": "fdbc86f1",
   "metadata": {},
   "outputs": [
    {
     "name": "stdout",
     "output_type": "stream",
     "text": [
      "tensor([ 0.0000,  0.0000,  0.0000,  0.0000,  0.0000,  0.0000, -3.8147,  3.8147,\n",
      "         1.9073,  1.9073,  0.0000,  0.9537,  0.0000,  0.0000,  0.4768,  0.4768,\n",
      "         0.0000,  0.2384,  0.2384,  0.1192], grad_fn=<CatBackward0>)\n"
     ]
    }
   ],
   "source": [
    "# Compute the gradients using finite differences\n",
    "eps = 1e-6\n",
    "gradients = []\n",
    "for i in range(len(solution)):\n",
    "    solution_plus_eps = odeint(model, Ed_sur, z_lev + eps)\n",
    "    grad = (solution_plus_eps[i] - solution[i]) / eps\n",
    "    gradients.append(grad)\n",
    "\n",
    "# Access the gradients\n",
    "z_lev_grad = torch.cat(gradients, dim=0)\n",
    "\n",
    "print(z_lev_grad)"
   ]
  },
  {
   "cell_type": "markdown",
   "id": "d4f11ffb",
   "metadata": {},
   "source": [
    "## Wavelength bands used in Radtrans:"
   ]
  },
  {
   "cell_type": "code",
   "execution_count": 6,
   "id": "506ef61c",
   "metadata": {},
   "outputs": [],
   "source": [
    "wavlens = [187.5,312.5,337.5,362.5,387.5,412.5,437.5,462.5,487.5,512.5,537.5,562.5,\\\n",
    "           587.5,612.5,637.5,662.5,687.5,712.5,750,800,900,1000,1100,1200,1300,1400,\\\n",
    "           1500,1600,1700,1800,2000,2400,3400,4000]"
   ]
  },
  {
   "cell_type": "code",
   "execution_count": 7,
   "id": "6fe92a7d",
   "metadata": {},
   "outputs": [],
   "source": [
    "wbTotalWidth = 0.0\n",
    "wbRefWls = []\n",
    "for i in range(len(wavlens)-1):\n",
    "    wbWidths = wavlens[i+1] - wavlens[i]\n",
    "    wbRefWls.append((wavlens[i]+wavlens[i+1])/2)\n",
    "#     print(wbRefWls)\n",
    "    wbTotalWidth += wbWidths\n",
    "    \n",
    "wbRefWls = np.asarray(wbRefWls)"
   ]
  },
  {
   "cell_type": "code",
   "execution_count": 9,
   "id": "e818848b",
   "metadata": {},
   "outputs": [
    {
     "data": {
      "text/plain": [
       "array([ 250.  ,  325.  ,  350.  ,  375.  ,  400.  ,  425.  ,  450.  ,\n",
       "        475.  ,  500.  ,  525.  ,  550.  ,  575.  ,  600.  ,  625.  ,\n",
       "        650.  ,  675.  ,  700.  ,  731.25,  775.  ,  850.  ,  950.  ,\n",
       "       1050.  , 1150.  , 1250.  , 1350.  , 1450.  , 1550.  , 1650.  ,\n",
       "       1750.  , 1900.  , 2200.  , 2900.  , 3700.  ])"
      ]
     },
     "execution_count": 9,
     "metadata": {},
     "output_type": "execute_result"
    }
   ],
   "source": [
    "wbRefWls # just with linear interpolation between wavelens"
   ]
  },
  {
   "cell_type": "markdown",
   "id": "4f8308dc",
   "metadata": {},
   "source": [
    "## Monthly mean water surface albedo "
   ]
  },
  {
   "cell_type": "code",
   "execution_count": 6,
   "id": "d0aa0bc8",
   "metadata": {},
   "outputs": [],
   "source": [
    "alpham = [0.095,0.08,0.065,0.065,0.06,0.06,0.06,0.06,0.065,0.075,0.09,0.10]"
   ]
  },
  {
   "cell_type": "markdown",
   "id": "f4df6d5b",
   "metadata": {},
   "source": [
    "## Files with absorbances of different matter"
   ]
  },
  {
   "cell_type": "code",
   "execution_count": 7,
   "id": "8a5b393a",
   "metadata": {},
   "outputs": [],
   "source": [
    "waterAbsorbFile     = './spectra_water.dat'\n",
    "bactrAbsorbFile     = './spectra_LgEuk.dat'\n",
    "diatmAbsorbFile     = './spectra_diatom.dat'\n",
    "coccoAbsorbFile     = './spectra_coccolito.dat'\n",
    "zooplAbsorbFile     = './spectra_zoo.dat'\n",
    "particleAbsorbFile  = './spectra_particles.dat'\n",
    "cdomSinusoidal      = './cdom_sinusoidal.dat' # "
   ]
  },
  {
   "cell_type": "markdown",
   "id": "a1f21a26",
   "metadata": {},
   "source": [
    "### Coefficients for water"
   ]
  },
  {
   "cell_type": "code",
   "execution_count": 8,
   "id": "34c337a6",
   "metadata": {},
   "outputs": [],
   "source": [
    "water_coef = pd.read_csv(waterAbsorbFile, header=6, sep='\\s+', \\\n",
    "                         names=['wavelen','abs','scat'])"
   ]
  },
  {
   "cell_type": "code",
   "execution_count": 9,
   "id": "425d7eb8",
   "metadata": {},
   "outputs": [],
   "source": [
    "water_bscat = water_coef['scat']*0.5\n",
    "water_coef['bscat'] = water_bscat.tolist()"
   ]
  },
  {
   "cell_type": "markdown",
   "id": "cf53c6a8",
   "metadata": {},
   "source": [
    "### Coefficients for phyto and zoo plankton"
   ]
  },
  {
   "cell_type": "code",
   "execution_count": 10,
   "id": "e42c011d",
   "metadata": {},
   "outputs": [],
   "source": [
    "lgeuk_coef = pd.read_csv(bactrAbsorbFile, header=7, sep='\\s+',\\\n",
    "                         names=['wavelen','abs','abs_photo','scat','bscat_coef'])"
   ]
  },
  {
   "cell_type": "code",
   "execution_count": 11,
   "id": "b9f266de",
   "metadata": {},
   "outputs": [],
   "source": [
    "lgeuk_bscat = lgeuk_coef['scat'] * lgeuk_coef['bscat_coef']\n",
    "lgeuk_coef['bscat'] = lgeuk_bscat.tolist()"
   ]
  },
  {
   "cell_type": "code",
   "execution_count": 29,
   "id": "57cdc353",
   "metadata": {},
   "outputs": [],
   "source": [
    "diatom_coef = pd.read_csv(diatmAbsorbFile, header=1, sep='\\s+',\\\n",
    "                         names=['wavelen','abs','abs_photo','scat','bscat_coef'])"
   ]
  },
  {
   "cell_type": "code",
   "execution_count": 30,
   "id": "a5d9afd1",
   "metadata": {},
   "outputs": [],
   "source": [
    "diatom_bscat = diatom_coef['scat'] * diatom_coef['bscat_coef']\n",
    "diatom_coef['bscat'] = diatom_bscat.tolist()"
   ]
  },
  {
   "cell_type": "code",
   "execution_count": 14,
   "id": "7a45aad6",
   "metadata": {},
   "outputs": [],
   "source": [
    "cocco_coef = pd.read_csv(coccoAbsorbFile, header=1, sep='\\s+',\\\n",
    "                         names=['wavelen','abs','abs_photo','scat','bscat_coef'])"
   ]
  },
  {
   "cell_type": "code",
   "execution_count": 15,
   "id": "8a4c3943",
   "metadata": {},
   "outputs": [],
   "source": [
    "cocco_bscat = cocco_coef['scat'] * cocco_coef['bscat_coef']\n",
    "cocco_coef['bscat'] = cocco_bscat.tolist()"
   ]
  },
  {
   "cell_type": "markdown",
   "id": "9e532105",
   "metadata": {},
   "source": [
    "### Coefficients for detraital matter"
   ]
  },
  {
   "cell_type": "code",
   "execution_count": 18,
   "id": "bed2ee2f",
   "metadata": {},
   "outputs": [],
   "source": [
    "parts_coef = pd.read_csv(particleAbsorbFile, header=5, sep='\\s+', \\\n",
    "                         names=['wavelen','abs','scat','bscat'])"
   ]
  },
  {
   "cell_type": "code",
   "execution_count": 40,
   "id": "e93fcc51",
   "metadata": {},
   "outputs": [
    {
     "data": {
      "text/plain": [
       "0      325\n",
       "1      350\n",
       "2      375\n",
       "3      400\n",
       "4      425\n",
       "5      450\n",
       "6      475\n",
       "7      500\n",
       "8      525\n",
       "9      550\n",
       "10     575\n",
       "11     600\n",
       "12     625\n",
       "13     650\n",
       "14     675\n",
       "15     700\n",
       "16     725\n",
       "17     775\n",
       "18     850\n",
       "19     950\n",
       "20    1050\n",
       "21    1150\n",
       "22    1250\n",
       "23    1350\n",
       "24    1450\n",
       "25    1550\n",
       "26    1650\n",
       "27    1750\n",
       "28    1900\n",
       "29    2200\n",
       "30    2900\n",
       "31    3700\n",
       "Name: wavelen, dtype: int64"
      ]
     },
     "execution_count": 40,
     "metadata": {},
     "output_type": "execute_result"
    }
   ],
   "source": [
    "water_coef['wavelen'] # 400-700 through 25 "
   ]
  },
  {
   "cell_type": "markdown",
   "id": "e72a5294",
   "metadata": {},
   "source": [
    "### Coefficients for CDOM"
   ]
  },
  {
   "cell_type": "code",
   "execution_count": null,
   "id": "350885d1",
   "metadata": {},
   "outputs": [],
   "source": [
    "# Don't understand yet, so fuck it up "
   ]
  },
  {
   "cell_type": "markdown",
   "id": "8ec5c9a3",
   "metadata": {},
   "source": [
    "## Здесь лежит вариант init-a основного кода на тот случай, когда надо будет прочитать все длины волн, а не только те 6, которые требуются для усвоения отраженностей"
   ]
  },
  {
   "cell_type": "code",
   "execution_count": 27,
   "id": "6c2d7471",
   "metadata": {},
   "outputs": [],
   "source": [
    "#         # Read absorbance coefficients from files: 3 PHY, 1 WATER, 1 DETR, 1 CDOM\n",
    "#         self.water_abs = torch.tensor(water_coef['abs'])\n",
    "#         self.water_sct = torch.tensor(water_coef['scat'])\n",
    "#         self.water_bsct = torch.tensor(get_wavelen(water_coef['bscat'], water_coef['wavelen']))\n",
    "#         # abs phyto - each contains 6 wavelens\n",
    "#         self.dia_abs = torch.tensor(diatom_coef['abs'])\n",
    "#         self.coc_abs = torch.tensor(cocco_coef['abs'])\n",
    "#         self.bac_abs = torch.tensor(lgeuk_coef['abs'])\n",
    "#         # scattering by PHY\n",
    "#         self.dia_sct = torch.tensor(diatom_coef['scat']\n",
    "#         self.coc_sct = torch.tensor(cocco_coef['scat'])\n",
    "#         self.bac_sct = torch.tensor(lgeuk_coef['scat'])\n",
    "#         # & backscattering by PHY\n",
    "#         self.dia_bsct = torch.tensor(diatom_coef['bscat'])\n",
    "#         self.coc_bsct = torch.tensor(cocco_coef['bscat'])\n",
    "#         self.bac_bsct = torch.tensor(lgeuk_coef['bscat'])\n",
    "#         # detrital all\n",
    "#         self.a_det_part = torch.tensor(parts_coef['abs'])\n",
    "#         self.b_det_part = torch.tensor(parts_coef['scat'])\n",
    "#         self.bb_det_part = torch.tensor(parts_coef['bscat'])"
   ]
  },
  {
   "cell_type": "code",
   "execution_count": null,
   "id": "b60ffc3c",
   "metadata": {},
   "outputs": [],
   "source": []
  }
 ],
 "metadata": {
  "kernelspec": {
   "display_name": "Python 3 (ipykernel)",
   "language": "python",
   "name": "python3"
  },
  "language_info": {
   "codemirror_mode": {
    "name": "ipython",
    "version": 3
   },
   "file_extension": ".py",
   "mimetype": "text/x-python",
   "name": "python",
   "nbconvert_exporter": "python",
   "pygments_lexer": "ipython3",
   "version": "3.11.5"
  }
 },
 "nbformat": 4,
 "nbformat_minor": 5
}
